{
  "nbformat": 4,
  "nbformat_minor": 0,
  "metadata": {
    "colab": {
      "provenance": [],
      "authorship_tag": "ABX9TyNDenOsyfGRe5t3Ga+UPiLG",
      "include_colab_link": true
    },
    "kernelspec": {
      "name": "python3",
      "display_name": "Python 3"
    },
    "language_info": {
      "name": "python"
    }
  },
  "cells": [
    {
      "cell_type": "markdown",
      "metadata": {
        "id": "view-in-github",
        "colab_type": "text"
      },
      "source": [
        "<a href=\"https://colab.research.google.com/github/safdaraliacca/Quantitative-Finance-/blob/main/Portfolio_Assignment.ipynb\" target=\"_parent\"><img src=\"https://colab.research.google.com/assets/colab-badge.svg\" alt=\"Open In Colab\"/></a>"
      ]
    },
    {
      "cell_type": "code",
      "source": [
        "import yfinance as yf\n",
        "import pandas as pd\n",
        "import numpy as np\n",
        "import matplotlib.pyplot as plt\n",
        "from scipy.optimize import minimize\n",
        "from rich import print\n",
        "\n",
        "# Define constants\n",
        "STOCKS = ['AAPL', 'GOOGL', 'MSFT', 'AMZN', 'META']\n",
        "START_DATE = '2022-12-01'\n",
        "END_DATE = '2022-12-14'\n",
        "RISK_FREE_RATE = 0  # Assuming risk-free rate is 0\n",
        "\n",
        "# Retrieve stock data\n",
        "def get_stock_data(stocks, start_date, end_date):\n",
        "    \"\"\"Retrieve closing prices for the given stocks and time period\"\"\"\n",
        "    data = yf.download(stocks, start=start_date, end=end_date)['Close']\n",
        "    return data\n",
        "\n",
        "# Calculate daily returns\n",
        "def calculate_daily_returns(data):\n",
        "    \"\"\"Calculate daily returns for the given data\"\"\"\n",
        "    returns = data.pct_change().dropna()\n",
        "    return returns\n",
        "\n",
        "# Calculate mean returns and covariance matrix\n",
        "def calculate_mean_returns_and_cov_matrix(returns):\n",
        "    \"\"\"Calculate mean returns and covariance matrix\"\"\"\n",
        "    mean_returns = returns.mean() * 252\n",
        "    cov_matrix = returns.cov() * 252\n",
        "\n",
        "    # Print calculation for META\n",
        "    if 'META' in returns.columns:\n",
        "        daily_mean_return = returns['META'].mean()\n",
        "        annualized_mean_return = daily_mean_return * 252\n",
        "        print(f\"\\nMean Return Calculation for META:\")\n",
        "        print(f\"Daily Mean Return: {daily_mean_return:.6f}\")\n",
        "        print(f\"Annualized Mean Return: {daily_mean_return:.6f} * 252 = {annualized_mean_return:.6f}\")\n",
        "\n",
        "    return mean_returns, cov_matrix\n",
        "\n",
        "# Define optimization function\n",
        "def optimize_portfolio(weights, mean_returns, cov_matrix):\n",
        "    \"\"\"Optimize portfolio by maximizing Sharpe Ratio\"\"\"\n",
        "    portfolio_return = np.sum(mean_returns * weights)\n",
        "    portfolio_volatility = np.sqrt(np.dot(weights.T, np.dot(cov_matrix, weights)))\n",
        "    sharpe_ratio = -portfolio_return / portfolio_volatility\n",
        "    return sharpe_ratio\n",
        "\n",
        "# Define constraints and bounds\n",
        "def define_constraints_and_bounds(n_stocks):\n",
        "    \"\"\"Define constraints and bounds for optimization\"\"\"\n",
        "    weights_init = np.array([1.0 / n_stocks] * n_stocks)\n",
        "    constraints = ({'type': 'eq', 'fun': lambda x: np.sum(x) - 1})\n",
        "    bounds = tuple((0, 1) for _ in range(n_stocks))\n",
        "    return weights_init, constraints, bounds\n",
        "\n",
        "# Run optimization\n",
        "def run_optimization(optimize_portfolio, weights_init, constraints, bounds, mean_returns, cov_matrix):\n",
        "    \"\"\"Run optimization to find optimal weights\"\"\"\n",
        "    result = minimize(optimize_portfolio, weights_init, args=(mean_returns, cov_matrix), method='SLSQP', bounds=bounds, constraints=constraints)\n",
        "    return result\n",
        "\n",
        "# Calculate portfolio returns and cumulative returns\n",
        "def calculate_portfolio_returns(returns, optimized_weights):\n",
        "    \"\"\"Calculate portfolio returns and cumulative returns\"\"\"\n",
        "    portfolio_returns = returns @ optimized_weights\n",
        "    cumulative_returns = (1 + portfolio_returns).cumprod()\n",
        "    return portfolio_returns, cumulative_returns\n",
        "\n",
        "# Plot efficient frontier\n",
        "def plot_efficient_frontier(mean_returns, cov_matrix, optimized_weights):\n",
        "    \"\"\"Plot efficient frontier\"\"\"\n",
        "    target_returns = np.linspace(mean_returns.min(), mean_returns.max(), 100)\n",
        "    volatilities = []\n",
        "    for target_return in target_returns:\n",
        "        constraints_target = ({'type': 'eq', 'fun': lambda x: np.sum(mean_returns * x) - target_return},\n",
        "                               {'type': 'eq', 'fun': lambda x: np.sum(x) - 1})\n",
        "        result_target = minimize(lambda x: np.sqrt(np.dot(x.T, np.dot(cov_matrix, x))), np.array([1.0 / len(mean_returns)] * len(mean_returns)), method='SLSQP', bounds=tuple((0, 1) for _ in range(len(mean_returns))), constraints=constraints_target)\n",
        "        volatilities.append(result_target.fun)\n",
        "\n",
        "    plt.plot(volatilities, target_returns, label='Efficient Frontier')\n",
        "    plt.scatter(np.sqrt(np.dot(optimized_weights.T, np.dot(cov_matrix, optimized_weights))), np.sum(mean_returns * optimized_weights), c='red', label='Optimized Portfolio')\n",
        "    plt.xlabel('Volatility')\n",
        "    plt.ylabel('Return')\n",
        "    plt.title('Efficient Frontier')\n",
        "    plt.legend()\n",
        "    plt.show()\n",
        "\n",
        "# Main function\n",
        "def main():\n",
        "    data = get_stock_data(STOCKS, START_DATE, END_DATE)\n",
        "    print(\"Imported Data:\")\n",
        "    print(data)\n",
        "\n",
        "    returns = calculate_daily_returns(data)\n",
        "    print(\"\\nDaily Returns:\")\n",
        "    print(returns)\n",
        "\n",
        "    mean_returns, cov_matrix = calculate_mean_returns_and_cov_matrix(returns)\n",
        "    print(\"\\nMean Returns:\")\n",
        "    print(mean_returns)\n",
        "    print(\"\\nCovariance Matrix:\")\n",
        "    print(cov_matrix)\n",
        "\n",
        "    weights_init, constraints, bounds = define_constraints_and_bounds(len(STOCKS))\n",
        "    result = run_optimization(optimize_portfolio, weights_init, constraints, bounds, mean_returns, cov_matrix)\n",
        "    optimized_weights = result.x\n",
        "    print(\"\\nOptimized Weights:\")\n",
        "    for stock, weight in zip(STOCKS, optimized_weights):\n",
        "        if weight > 0.01:\n",
        "            print(f'Invest {weight*100:.2f}% in {stock}')\n",
        "\n",
        "    max_weight_stock = STOCKS[np.argmax(optimized_weights)]\n",
        "    max_weight = np.max(optimized_weights)\n",
        "\n",
        "    print(f\"\\nThe optimized portfolio suggests investing [bold magenta]{max_weight*100:.2f}%[/bold magenta] in [bold magenta]{max_weight_stock}[/bold magenta].\")\n",
        "    print(\"This is because:\")\n",
        "    print(f\"* [bold magenta]{max_weight_stock}[/bold magenta] has a high mean return.\")\n",
        "    print(f\"* The optimization algorithm has determined that [bold magenta]{max_weight_stock}[/bold magenta] provides the best risk-return tradeoff, resulting in a high Sharpe Ratio.\")\n",
        "    print(\"Based on the analysis, it's recommended to allocate a significant portion of your portfolio to this stock to maximize returns while managing risk.\")\n",
        "\n",
        "    portfolio_returns, cumulative_returns = calculate_portfolio_returns(returns, optimized_weights)\n",
        "    print(\"\\nPortfolio Returns:\")\n",
        "    print(portfolio_returns)\n",
        "    print(\"\\nCumulative Portfolio Returns:\")\n",
        "    print(cumulative_returns)\n",
        "\n",
        "    plot_efficient_frontier(mean_returns, cov_matrix, optimized_weights)\n",
        "\n",
        "if __name__ == \"__main__\":\n",
        "    main()"
      ],
      "metadata": {
        "colab": {
          "base_uri": "https://localhost:8080/",
          "height": 1000
        },
        "id": "9enKOEUjMcF-",
        "outputId": "7dcd3676-5fc5-4ef7-b9c4-c969f7b3fc92"
      },
      "execution_count": 4,
      "outputs": [
        {
          "output_type": "stream",
          "name": "stderr",
          "text": [
            "/tmp/ipython-input-1773061149.py:17: FutureWarning: YF.download() has changed argument auto_adjust default to True\n",
            "  data = yf.download(stocks, start=start_date, end=end_date)['Close']\n",
            "[*********************100%***********************]  5 of 5 completed\n"
          ]
        },
        {
          "output_type": "display_data",
          "data": {
            "text/plain": [
              "Imported Data:\n"
            ],
            "text/html": [
              "<pre style=\"white-space:pre;overflow-x:auto;line-height:normal;font-family:Menlo,'DejaVu Sans Mono',consolas,'Courier New',monospace\">Imported Data:\n",
              "</pre>\n"
            ]
          },
          "metadata": {}
        },
        {
          "output_type": "display_data",
          "data": {
            "text/plain": [
              "Ticker            AAPL       AMZN       GOOGL        META        MSFT\n",
              "Date                                                                 \n",
              "\u001b[1;36m2022\u001b[0m-\u001b[1;36m12\u001b[0m-\u001b[1;36m01\u001b[0m  \u001b[1;36m146.247452\u001b[0m  \u001b[1;36m95.500000\u001b[0m  \u001b[1;36m100.298241\u001b[0m  \u001b[1;36m119.702072\u001b[0m  \u001b[1;36m249.208374\u001b[0m\n",
              "\u001b[1;36m2022\u001b[0m-\u001b[1;36m12\u001b[0m-\u001b[1;36m02\u001b[0m  \u001b[1;36m145.754410\u001b[0m  \u001b[1;36m94.129997\u001b[0m   \u001b[1;36m99.752014\u001b[0m  \u001b[1;36m122.733376\u001b[0m  \u001b[1;36m249.531281\u001b[0m\n",
              "\u001b[1;36m2022\u001b[0m-\u001b[1;36m12\u001b[0m-\u001b[1;36m05\u001b[0m  \u001b[1;36m144.590820\u001b[0m  \u001b[1;36m91.010002\u001b[0m   \u001b[1;36m98.798576\u001b[0m  \u001b[1;36m121.679878\u001b[0m  \u001b[1;36m244.815018\u001b[0m\n",
              "\u001b[1;36m2022\u001b[0m-\u001b[1;36m12\u001b[0m-\u001b[1;36m06\u001b[0m  \u001b[1;36m140.922562\u001b[0m  \u001b[1;36m88.250000\u001b[0m   \u001b[1;36m96.315704\u001b[0m  \u001b[1;36m113.420807\u001b[0m  \u001b[1;36m239.844330\u001b[0m\n",
              "\u001b[1;36m2022\u001b[0m-\u001b[1;36m12\u001b[0m-\u001b[1;36m07\u001b[0m  \u001b[1;36m138.979965\u001b[0m  \u001b[1;36m88.459999\u001b[0m   \u001b[1;36m94.289680\u001b[0m  \u001b[1;36m113.231956\u001b[0m  \u001b[1;36m239.110489\u001b[0m\n",
              "\u001b[1;36m2022\u001b[0m-\u001b[1;36m12\u001b[0m-\u001b[1;36m08\u001b[0m  \u001b[1;36m140.666153\u001b[0m  \u001b[1;36m90.349998\u001b[0m   \u001b[1;36m93.068100\u001b[0m  \u001b[1;36m114.623367\u001b[0m  \u001b[1;36m242.075287\u001b[0m\n",
              "\u001b[1;36m2022\u001b[0m-\u001b[1;36m12\u001b[0m-\u001b[1;36m09\u001b[0m  \u001b[1;36m140.182983\u001b[0m  \u001b[1;36m89.089996\u001b[0m   \u001b[1;36m92.194138\u001b[0m  \u001b[1;36m115.189888\u001b[0m  \u001b[1;36m240.137894\u001b[0m\n",
              "\u001b[1;36m2022\u001b[0m-\u001b[1;36m12\u001b[0m-\u001b[1;36m12\u001b[0m  \u001b[1;36m142.480560\u001b[0m  \u001b[1;36m90.550003\u001b[0m   \u001b[1;36m92.670837\u001b[0m  \u001b[1;36m114.007179\u001b[0m  \u001b[1;36m247.075272\u001b[0m\n",
              "\u001b[1;36m2022\u001b[0m-\u001b[1;36m12\u001b[0m-\u001b[1;36m13\u001b[0m  \u001b[1;36m143.446976\u001b[0m  \u001b[1;36m92.489998\u001b[0m   \u001b[1;36m94.974945\u001b[0m  \u001b[1;36m119.413849\u001b[0m  \u001b[1;36m251.390366\u001b[0m\n"
            ],
            "text/html": [
              "<pre style=\"white-space:pre;overflow-x:auto;line-height:normal;font-family:Menlo,'DejaVu Sans Mono',consolas,'Courier New',monospace\">Ticker            AAPL       AMZN       GOOGL        META        MSFT\n",
              "Date                                                                 \n",
              "<span style=\"color: #008080; text-decoration-color: #008080; font-weight: bold\">2022</span>-<span style=\"color: #008080; text-decoration-color: #008080; font-weight: bold\">12</span>-<span style=\"color: #008080; text-decoration-color: #008080; font-weight: bold\">01</span>  <span style=\"color: #008080; text-decoration-color: #008080; font-weight: bold\">146.247452</span>  <span style=\"color: #008080; text-decoration-color: #008080; font-weight: bold\">95.500000</span>  <span style=\"color: #008080; text-decoration-color: #008080; font-weight: bold\">100.298241</span>  <span style=\"color: #008080; text-decoration-color: #008080; font-weight: bold\">119.702072</span>  <span style=\"color: #008080; text-decoration-color: #008080; font-weight: bold\">249.208374</span>\n",
              "<span style=\"color: #008080; text-decoration-color: #008080; font-weight: bold\">2022</span>-<span style=\"color: #008080; text-decoration-color: #008080; font-weight: bold\">12</span>-<span style=\"color: #008080; text-decoration-color: #008080; font-weight: bold\">02</span>  <span style=\"color: #008080; text-decoration-color: #008080; font-weight: bold\">145.754410</span>  <span style=\"color: #008080; text-decoration-color: #008080; font-weight: bold\">94.129997</span>   <span style=\"color: #008080; text-decoration-color: #008080; font-weight: bold\">99.752014</span>  <span style=\"color: #008080; text-decoration-color: #008080; font-weight: bold\">122.733376</span>  <span style=\"color: #008080; text-decoration-color: #008080; font-weight: bold\">249.531281</span>\n",
              "<span style=\"color: #008080; text-decoration-color: #008080; font-weight: bold\">2022</span>-<span style=\"color: #008080; text-decoration-color: #008080; font-weight: bold\">12</span>-<span style=\"color: #008080; text-decoration-color: #008080; font-weight: bold\">05</span>  <span style=\"color: #008080; text-decoration-color: #008080; font-weight: bold\">144.590820</span>  <span style=\"color: #008080; text-decoration-color: #008080; font-weight: bold\">91.010002</span>   <span style=\"color: #008080; text-decoration-color: #008080; font-weight: bold\">98.798576</span>  <span style=\"color: #008080; text-decoration-color: #008080; font-weight: bold\">121.679878</span>  <span style=\"color: #008080; text-decoration-color: #008080; font-weight: bold\">244.815018</span>\n",
              "<span style=\"color: #008080; text-decoration-color: #008080; font-weight: bold\">2022</span>-<span style=\"color: #008080; text-decoration-color: #008080; font-weight: bold\">12</span>-<span style=\"color: #008080; text-decoration-color: #008080; font-weight: bold\">06</span>  <span style=\"color: #008080; text-decoration-color: #008080; font-weight: bold\">140.922562</span>  <span style=\"color: #008080; text-decoration-color: #008080; font-weight: bold\">88.250000</span>   <span style=\"color: #008080; text-decoration-color: #008080; font-weight: bold\">96.315704</span>  <span style=\"color: #008080; text-decoration-color: #008080; font-weight: bold\">113.420807</span>  <span style=\"color: #008080; text-decoration-color: #008080; font-weight: bold\">239.844330</span>\n",
              "<span style=\"color: #008080; text-decoration-color: #008080; font-weight: bold\">2022</span>-<span style=\"color: #008080; text-decoration-color: #008080; font-weight: bold\">12</span>-<span style=\"color: #008080; text-decoration-color: #008080; font-weight: bold\">07</span>  <span style=\"color: #008080; text-decoration-color: #008080; font-weight: bold\">138.979965</span>  <span style=\"color: #008080; text-decoration-color: #008080; font-weight: bold\">88.459999</span>   <span style=\"color: #008080; text-decoration-color: #008080; font-weight: bold\">94.289680</span>  <span style=\"color: #008080; text-decoration-color: #008080; font-weight: bold\">113.231956</span>  <span style=\"color: #008080; text-decoration-color: #008080; font-weight: bold\">239.110489</span>\n",
              "<span style=\"color: #008080; text-decoration-color: #008080; font-weight: bold\">2022</span>-<span style=\"color: #008080; text-decoration-color: #008080; font-weight: bold\">12</span>-<span style=\"color: #008080; text-decoration-color: #008080; font-weight: bold\">08</span>  <span style=\"color: #008080; text-decoration-color: #008080; font-weight: bold\">140.666153</span>  <span style=\"color: #008080; text-decoration-color: #008080; font-weight: bold\">90.349998</span>   <span style=\"color: #008080; text-decoration-color: #008080; font-weight: bold\">93.068100</span>  <span style=\"color: #008080; text-decoration-color: #008080; font-weight: bold\">114.623367</span>  <span style=\"color: #008080; text-decoration-color: #008080; font-weight: bold\">242.075287</span>\n",
              "<span style=\"color: #008080; text-decoration-color: #008080; font-weight: bold\">2022</span>-<span style=\"color: #008080; text-decoration-color: #008080; font-weight: bold\">12</span>-<span style=\"color: #008080; text-decoration-color: #008080; font-weight: bold\">09</span>  <span style=\"color: #008080; text-decoration-color: #008080; font-weight: bold\">140.182983</span>  <span style=\"color: #008080; text-decoration-color: #008080; font-weight: bold\">89.089996</span>   <span style=\"color: #008080; text-decoration-color: #008080; font-weight: bold\">92.194138</span>  <span style=\"color: #008080; text-decoration-color: #008080; font-weight: bold\">115.189888</span>  <span style=\"color: #008080; text-decoration-color: #008080; font-weight: bold\">240.137894</span>\n",
              "<span style=\"color: #008080; text-decoration-color: #008080; font-weight: bold\">2022</span>-<span style=\"color: #008080; text-decoration-color: #008080; font-weight: bold\">12</span>-<span style=\"color: #008080; text-decoration-color: #008080; font-weight: bold\">12</span>  <span style=\"color: #008080; text-decoration-color: #008080; font-weight: bold\">142.480560</span>  <span style=\"color: #008080; text-decoration-color: #008080; font-weight: bold\">90.550003</span>   <span style=\"color: #008080; text-decoration-color: #008080; font-weight: bold\">92.670837</span>  <span style=\"color: #008080; text-decoration-color: #008080; font-weight: bold\">114.007179</span>  <span style=\"color: #008080; text-decoration-color: #008080; font-weight: bold\">247.075272</span>\n",
              "<span style=\"color: #008080; text-decoration-color: #008080; font-weight: bold\">2022</span>-<span style=\"color: #008080; text-decoration-color: #008080; font-weight: bold\">12</span>-<span style=\"color: #008080; text-decoration-color: #008080; font-weight: bold\">13</span>  <span style=\"color: #008080; text-decoration-color: #008080; font-weight: bold\">143.446976</span>  <span style=\"color: #008080; text-decoration-color: #008080; font-weight: bold\">92.489998</span>   <span style=\"color: #008080; text-decoration-color: #008080; font-weight: bold\">94.974945</span>  <span style=\"color: #008080; text-decoration-color: #008080; font-weight: bold\">119.413849</span>  <span style=\"color: #008080; text-decoration-color: #008080; font-weight: bold\">251.390366</span>\n",
              "</pre>\n"
            ]
          },
          "metadata": {}
        },
        {
          "output_type": "display_data",
          "data": {
            "text/plain": [
              "\n",
              "Daily Returns:\n"
            ],
            "text/html": [
              "<pre style=\"white-space:pre;overflow-x:auto;line-height:normal;font-family:Menlo,'DejaVu Sans Mono',consolas,'Courier New',monospace\">\n",
              "Daily Returns:\n",
              "</pre>\n"
            ]
          },
          "metadata": {}
        },
        {
          "output_type": "display_data",
          "data": {
            "text/plain": [
              "Ticker          AAPL      AMZN     GOOGL      META      MSFT\n",
              "Date                                                        \n",
              "\u001b[1;36m2022\u001b[0m-\u001b[1;36m12\u001b[0m-\u001b[1;36m02\u001b[0m \u001b[1;36m-0.003371\u001b[0m \u001b[1;36m-0.014346\u001b[0m \u001b[1;36m-0.005446\u001b[0m  \u001b[1;36m0.025324\u001b[0m  \u001b[1;36m0.001296\u001b[0m\n",
              "\u001b[1;36m2022\u001b[0m-\u001b[1;36m12\u001b[0m-\u001b[1;36m05\u001b[0m \u001b[1;36m-0.007983\u001b[0m \u001b[1;36m-0.033146\u001b[0m \u001b[1;36m-0.009558\u001b[0m \u001b[1;36m-0.008584\u001b[0m \u001b[1;36m-0.018900\u001b[0m\n",
              "\u001b[1;36m2022\u001b[0m-\u001b[1;36m12\u001b[0m-\u001b[1;36m06\u001b[0m \u001b[1;36m-0.025370\u001b[0m \u001b[1;36m-0.030326\u001b[0m \u001b[1;36m-0.025131\u001b[0m \u001b[1;36m-0.067875\u001b[0m \u001b[1;36m-0.020304\u001b[0m\n",
              "\u001b[1;36m2022\u001b[0m-\u001b[1;36m12\u001b[0m-\u001b[1;36m07\u001b[0m \u001b[1;36m-0.013785\u001b[0m  \u001b[1;36m0.002380\u001b[0m \u001b[1;36m-0.021035\u001b[0m \u001b[1;36m-0.001665\u001b[0m \u001b[1;36m-0.003060\u001b[0m\n",
              "\u001b[1;36m2022\u001b[0m-\u001b[1;36m12\u001b[0m-\u001b[1;36m08\u001b[0m  \u001b[1;36m0.012133\u001b[0m  \u001b[1;36m0.021366\u001b[0m \u001b[1;36m-0.012956\u001b[0m  \u001b[1;36m0.012288\u001b[0m  \u001b[1;36m0.012399\u001b[0m\n",
              "\u001b[1;36m2022\u001b[0m-\u001b[1;36m12\u001b[0m-\u001b[1;36m09\u001b[0m \u001b[1;36m-0.003435\u001b[0m \u001b[1;36m-0.013946\u001b[0m \u001b[1;36m-0.009391\u001b[0m  \u001b[1;36m0.004942\u001b[0m \u001b[1;36m-0.008003\u001b[0m\n",
              "\u001b[1;36m2022\u001b[0m-\u001b[1;36m12\u001b[0m-\u001b[1;36m12\u001b[0m  \u001b[1;36m0.016390\u001b[0m  \u001b[1;36m0.016388\u001b[0m  \u001b[1;36m0.005171\u001b[0m \u001b[1;36m-0.010267\u001b[0m  \u001b[1;36m0.028889\u001b[0m\n",
              "\u001b[1;36m2022\u001b[0m-\u001b[1;36m12\u001b[0m-\u001b[1;36m13\u001b[0m  \u001b[1;36m0.006783\u001b[0m  \u001b[1;36m0.021425\u001b[0m  \u001b[1;36m0.024863\u001b[0m  \u001b[1;36m0.047424\u001b[0m  \u001b[1;36m0.017465\u001b[0m\n"
            ],
            "text/html": [
              "<pre style=\"white-space:pre;overflow-x:auto;line-height:normal;font-family:Menlo,'DejaVu Sans Mono',consolas,'Courier New',monospace\">Ticker          AAPL      AMZN     GOOGL      META      MSFT\n",
              "Date                                                        \n",
              "<span style=\"color: #008080; text-decoration-color: #008080; font-weight: bold\">2022</span>-<span style=\"color: #008080; text-decoration-color: #008080; font-weight: bold\">12</span>-<span style=\"color: #008080; text-decoration-color: #008080; font-weight: bold\">02</span> <span style=\"color: #008080; text-decoration-color: #008080; font-weight: bold\">-0.003371</span> <span style=\"color: #008080; text-decoration-color: #008080; font-weight: bold\">-0.014346</span> <span style=\"color: #008080; text-decoration-color: #008080; font-weight: bold\">-0.005446</span>  <span style=\"color: #008080; text-decoration-color: #008080; font-weight: bold\">0.025324</span>  <span style=\"color: #008080; text-decoration-color: #008080; font-weight: bold\">0.001296</span>\n",
              "<span style=\"color: #008080; text-decoration-color: #008080; font-weight: bold\">2022</span>-<span style=\"color: #008080; text-decoration-color: #008080; font-weight: bold\">12</span>-<span style=\"color: #008080; text-decoration-color: #008080; font-weight: bold\">05</span> <span style=\"color: #008080; text-decoration-color: #008080; font-weight: bold\">-0.007983</span> <span style=\"color: #008080; text-decoration-color: #008080; font-weight: bold\">-0.033146</span> <span style=\"color: #008080; text-decoration-color: #008080; font-weight: bold\">-0.009558</span> <span style=\"color: #008080; text-decoration-color: #008080; font-weight: bold\">-0.008584</span> <span style=\"color: #008080; text-decoration-color: #008080; font-weight: bold\">-0.018900</span>\n",
              "<span style=\"color: #008080; text-decoration-color: #008080; font-weight: bold\">2022</span>-<span style=\"color: #008080; text-decoration-color: #008080; font-weight: bold\">12</span>-<span style=\"color: #008080; text-decoration-color: #008080; font-weight: bold\">06</span> <span style=\"color: #008080; text-decoration-color: #008080; font-weight: bold\">-0.025370</span> <span style=\"color: #008080; text-decoration-color: #008080; font-weight: bold\">-0.030326</span> <span style=\"color: #008080; text-decoration-color: #008080; font-weight: bold\">-0.025131</span> <span style=\"color: #008080; text-decoration-color: #008080; font-weight: bold\">-0.067875</span> <span style=\"color: #008080; text-decoration-color: #008080; font-weight: bold\">-0.020304</span>\n",
              "<span style=\"color: #008080; text-decoration-color: #008080; font-weight: bold\">2022</span>-<span style=\"color: #008080; text-decoration-color: #008080; font-weight: bold\">12</span>-<span style=\"color: #008080; text-decoration-color: #008080; font-weight: bold\">07</span> <span style=\"color: #008080; text-decoration-color: #008080; font-weight: bold\">-0.013785</span>  <span style=\"color: #008080; text-decoration-color: #008080; font-weight: bold\">0.002380</span> <span style=\"color: #008080; text-decoration-color: #008080; font-weight: bold\">-0.021035</span> <span style=\"color: #008080; text-decoration-color: #008080; font-weight: bold\">-0.001665</span> <span style=\"color: #008080; text-decoration-color: #008080; font-weight: bold\">-0.003060</span>\n",
              "<span style=\"color: #008080; text-decoration-color: #008080; font-weight: bold\">2022</span>-<span style=\"color: #008080; text-decoration-color: #008080; font-weight: bold\">12</span>-<span style=\"color: #008080; text-decoration-color: #008080; font-weight: bold\">08</span>  <span style=\"color: #008080; text-decoration-color: #008080; font-weight: bold\">0.012133</span>  <span style=\"color: #008080; text-decoration-color: #008080; font-weight: bold\">0.021366</span> <span style=\"color: #008080; text-decoration-color: #008080; font-weight: bold\">-0.012956</span>  <span style=\"color: #008080; text-decoration-color: #008080; font-weight: bold\">0.012288</span>  <span style=\"color: #008080; text-decoration-color: #008080; font-weight: bold\">0.012399</span>\n",
              "<span style=\"color: #008080; text-decoration-color: #008080; font-weight: bold\">2022</span>-<span style=\"color: #008080; text-decoration-color: #008080; font-weight: bold\">12</span>-<span style=\"color: #008080; text-decoration-color: #008080; font-weight: bold\">09</span> <span style=\"color: #008080; text-decoration-color: #008080; font-weight: bold\">-0.003435</span> <span style=\"color: #008080; text-decoration-color: #008080; font-weight: bold\">-0.013946</span> <span style=\"color: #008080; text-decoration-color: #008080; font-weight: bold\">-0.009391</span>  <span style=\"color: #008080; text-decoration-color: #008080; font-weight: bold\">0.004942</span> <span style=\"color: #008080; text-decoration-color: #008080; font-weight: bold\">-0.008003</span>\n",
              "<span style=\"color: #008080; text-decoration-color: #008080; font-weight: bold\">2022</span>-<span style=\"color: #008080; text-decoration-color: #008080; font-weight: bold\">12</span>-<span style=\"color: #008080; text-decoration-color: #008080; font-weight: bold\">12</span>  <span style=\"color: #008080; text-decoration-color: #008080; font-weight: bold\">0.016390</span>  <span style=\"color: #008080; text-decoration-color: #008080; font-weight: bold\">0.016388</span>  <span style=\"color: #008080; text-decoration-color: #008080; font-weight: bold\">0.005171</span> <span style=\"color: #008080; text-decoration-color: #008080; font-weight: bold\">-0.010267</span>  <span style=\"color: #008080; text-decoration-color: #008080; font-weight: bold\">0.028889</span>\n",
              "<span style=\"color: #008080; text-decoration-color: #008080; font-weight: bold\">2022</span>-<span style=\"color: #008080; text-decoration-color: #008080; font-weight: bold\">12</span>-<span style=\"color: #008080; text-decoration-color: #008080; font-weight: bold\">13</span>  <span style=\"color: #008080; text-decoration-color: #008080; font-weight: bold\">0.006783</span>  <span style=\"color: #008080; text-decoration-color: #008080; font-weight: bold\">0.021425</span>  <span style=\"color: #008080; text-decoration-color: #008080; font-weight: bold\">0.024863</span>  <span style=\"color: #008080; text-decoration-color: #008080; font-weight: bold\">0.047424</span>  <span style=\"color: #008080; text-decoration-color: #008080; font-weight: bold\">0.017465</span>\n",
              "</pre>\n"
            ]
          },
          "metadata": {}
        },
        {
          "output_type": "display_data",
          "data": {
            "text/plain": [
              "\n",
              "Mean Return Calculation for META:\n"
            ],
            "text/html": [
              "<pre style=\"white-space:pre;overflow-x:auto;line-height:normal;font-family:Menlo,'DejaVu Sans Mono',consolas,'Courier New',monospace\">\n",
              "Mean Return Calculation for META:\n",
              "</pre>\n"
            ]
          },
          "metadata": {}
        },
        {
          "output_type": "display_data",
          "data": {
            "text/plain": [
              "Daily Mean Return: \u001b[1;36m0.000198\u001b[0m\n"
            ],
            "text/html": [
              "<pre style=\"white-space:pre;overflow-x:auto;line-height:normal;font-family:Menlo,'DejaVu Sans Mono',consolas,'Courier New',monospace\">Daily Mean Return: <span style=\"color: #008080; text-decoration-color: #008080; font-weight: bold\">0.000198</span>\n",
              "</pre>\n"
            ]
          },
          "metadata": {}
        },
        {
          "output_type": "display_data",
          "data": {
            "text/plain": [
              "Annualized Mean Return: \u001b[1;36m0.000198\u001b[0m * \u001b[1;36m252\u001b[0m = \u001b[1;36m0.049982\u001b[0m\n"
            ],
            "text/html": [
              "<pre style=\"white-space:pre;overflow-x:auto;line-height:normal;font-family:Menlo,'DejaVu Sans Mono',consolas,'Courier New',monospace\">Annualized Mean Return: <span style=\"color: #008080; text-decoration-color: #008080; font-weight: bold\">0.000198</span> * <span style=\"color: #008080; text-decoration-color: #008080; font-weight: bold\">252</span> = <span style=\"color: #008080; text-decoration-color: #008080; font-weight: bold\">0.049982</span>\n",
              "</pre>\n"
            ]
          },
          "metadata": {}
        },
        {
          "output_type": "display_data",
          "data": {
            "text/plain": [
              "\n",
              "Mean Returns:\n"
            ],
            "text/html": [
              "<pre style=\"white-space:pre;overflow-x:auto;line-height:normal;font-family:Menlo,'DejaVu Sans Mono',consolas,'Courier New',monospace\">\n",
              "Mean Returns:\n",
              "</pre>\n"
            ]
          },
          "metadata": {}
        },
        {
          "output_type": "display_data",
          "data": {
            "text/plain": [
              "Ticker\n",
              "AAPL    \u001b[1;36m-0.587126\u001b[0m\n",
              "AMZN    \u001b[1;36m-0.951476\u001b[0m\n",
              "GOOGL   \u001b[1;36m-1.684690\u001b[0m\n",
              "META     \u001b[1;36m0.049982\u001b[0m\n",
              "MSFT     \u001b[1;36m0.308120\u001b[0m\n",
              "dtype: float64\n"
            ],
            "text/html": [
              "<pre style=\"white-space:pre;overflow-x:auto;line-height:normal;font-family:Menlo,'DejaVu Sans Mono',consolas,'Courier New',monospace\">Ticker\n",
              "AAPL    <span style=\"color: #008080; text-decoration-color: #008080; font-weight: bold\">-0.587126</span>\n",
              "AMZN    <span style=\"color: #008080; text-decoration-color: #008080; font-weight: bold\">-0.951476</span>\n",
              "GOOGL   <span style=\"color: #008080; text-decoration-color: #008080; font-weight: bold\">-1.684690</span>\n",
              "META     <span style=\"color: #008080; text-decoration-color: #008080; font-weight: bold\">0.049982</span>\n",
              "MSFT     <span style=\"color: #008080; text-decoration-color: #008080; font-weight: bold\">0.308120</span>\n",
              "dtype: float64\n",
              "</pre>\n"
            ]
          },
          "metadata": {}
        },
        {
          "output_type": "display_data",
          "data": {
            "text/plain": [
              "\n",
              "Covariance Matrix:\n"
            ],
            "text/html": [
              "<pre style=\"white-space:pre;overflow-x:auto;line-height:normal;font-family:Menlo,'DejaVu Sans Mono',consolas,'Courier New',monospace\">\n",
              "Covariance Matrix:\n",
              "</pre>\n"
            ]
          },
          "metadata": {}
        },
        {
          "output_type": "display_data",
          "data": {
            "text/plain": [
              "Ticker      AAPL      AMZN     GOOGL      META      MSFT\n",
              "Ticker                                                  \n",
              "AAPL    \u001b[1;36m0.048202\u001b[0m  \u001b[1;36m0.061208\u001b[0m  \u001b[1;36m0.036938\u001b[0m  \u001b[1;36m0.072622\u001b[0m  \u001b[1;36m0.053873\u001b[0m\n",
              "AMZN    \u001b[1;36m0.061208\u001b[0m  \u001b[1;36m0.125794\u001b[0m  \u001b[1;36m0.049559\u001b[0m  \u001b[1;36m0.108830\u001b[0m  \u001b[1;36m0.089187\u001b[0m\n",
              "GOOGL   \u001b[1;36m0.036938\u001b[0m  \u001b[1;36m0.049559\u001b[0m  \u001b[1;36m0.062584\u001b[0m  \u001b[1;36m0.094174\u001b[0m  \u001b[1;36m0.047222\u001b[0m\n",
              "META    \u001b[1;36m0.072622\u001b[0m  \u001b[1;36m0.108830\u001b[0m  \u001b[1;36m0.094174\u001b[0m  \u001b[1;36m0.282758\u001b[0m  \u001b[1;36m0.079948\u001b[0m\n",
              "MSFT    \u001b[1;36m0.053873\u001b[0m  \u001b[1;36m0.089187\u001b[0m  \u001b[1;36m0.047222\u001b[0m  \u001b[1;36m0.079948\u001b[0m  \u001b[1;36m0.076534\u001b[0m\n"
            ],
            "text/html": [
              "<pre style=\"white-space:pre;overflow-x:auto;line-height:normal;font-family:Menlo,'DejaVu Sans Mono',consolas,'Courier New',monospace\">Ticker      AAPL      AMZN     GOOGL      META      MSFT\n",
              "Ticker                                                  \n",
              "AAPL    <span style=\"color: #008080; text-decoration-color: #008080; font-weight: bold\">0.048202</span>  <span style=\"color: #008080; text-decoration-color: #008080; font-weight: bold\">0.061208</span>  <span style=\"color: #008080; text-decoration-color: #008080; font-weight: bold\">0.036938</span>  <span style=\"color: #008080; text-decoration-color: #008080; font-weight: bold\">0.072622</span>  <span style=\"color: #008080; text-decoration-color: #008080; font-weight: bold\">0.053873</span>\n",
              "AMZN    <span style=\"color: #008080; text-decoration-color: #008080; font-weight: bold\">0.061208</span>  <span style=\"color: #008080; text-decoration-color: #008080; font-weight: bold\">0.125794</span>  <span style=\"color: #008080; text-decoration-color: #008080; font-weight: bold\">0.049559</span>  <span style=\"color: #008080; text-decoration-color: #008080; font-weight: bold\">0.108830</span>  <span style=\"color: #008080; text-decoration-color: #008080; font-weight: bold\">0.089187</span>\n",
              "GOOGL   <span style=\"color: #008080; text-decoration-color: #008080; font-weight: bold\">0.036938</span>  <span style=\"color: #008080; text-decoration-color: #008080; font-weight: bold\">0.049559</span>  <span style=\"color: #008080; text-decoration-color: #008080; font-weight: bold\">0.062584</span>  <span style=\"color: #008080; text-decoration-color: #008080; font-weight: bold\">0.094174</span>  <span style=\"color: #008080; text-decoration-color: #008080; font-weight: bold\">0.047222</span>\n",
              "META    <span style=\"color: #008080; text-decoration-color: #008080; font-weight: bold\">0.072622</span>  <span style=\"color: #008080; text-decoration-color: #008080; font-weight: bold\">0.108830</span>  <span style=\"color: #008080; text-decoration-color: #008080; font-weight: bold\">0.094174</span>  <span style=\"color: #008080; text-decoration-color: #008080; font-weight: bold\">0.282758</span>  <span style=\"color: #008080; text-decoration-color: #008080; font-weight: bold\">0.079948</span>\n",
              "MSFT    <span style=\"color: #008080; text-decoration-color: #008080; font-weight: bold\">0.053873</span>  <span style=\"color: #008080; text-decoration-color: #008080; font-weight: bold\">0.089187</span>  <span style=\"color: #008080; text-decoration-color: #008080; font-weight: bold\">0.047222</span>  <span style=\"color: #008080; text-decoration-color: #008080; font-weight: bold\">0.079948</span>  <span style=\"color: #008080; text-decoration-color: #008080; font-weight: bold\">0.076534</span>\n",
              "</pre>\n"
            ]
          },
          "metadata": {}
        },
        {
          "output_type": "display_data",
          "data": {
            "text/plain": [
              "\n",
              "Optimized Weights:\n"
            ],
            "text/html": [
              "<pre style=\"white-space:pre;overflow-x:auto;line-height:normal;font-family:Menlo,'DejaVu Sans Mono',consolas,'Courier New',monospace\">\n",
              "Optimized Weights:\n",
              "</pre>\n"
            ]
          },
          "metadata": {}
        },
        {
          "output_type": "display_data",
          "data": {
            "text/plain": [
              "Invest \u001b[1;36m100.00\u001b[0m% in META\n"
            ],
            "text/html": [
              "<pre style=\"white-space:pre;overflow-x:auto;line-height:normal;font-family:Menlo,'DejaVu Sans Mono',consolas,'Courier New',monospace\">Invest <span style=\"color: #008080; text-decoration-color: #008080; font-weight: bold\">100.00</span>% in META\n",
              "</pre>\n"
            ]
          },
          "metadata": {}
        },
        {
          "output_type": "display_data",
          "data": {
            "text/plain": [
              "\n",
              "The optimized portfolio suggests investing \u001b[1;35m100.00\u001b[0m\u001b[1;35m%\u001b[0m in \u001b[1;35mMETA\u001b[0m.\n"
            ],
            "text/html": [
              "<pre style=\"white-space:pre;overflow-x:auto;line-height:normal;font-family:Menlo,'DejaVu Sans Mono',consolas,'Courier New',monospace\">\n",
              "The optimized portfolio suggests investing <span style=\"color: #800080; text-decoration-color: #800080; font-weight: bold\">100.00</span><span style=\"color: #800080; text-decoration-color: #800080; font-weight: bold\">%</span> in <span style=\"color: #800080; text-decoration-color: #800080; font-weight: bold\">META</span>.\n",
              "</pre>\n"
            ]
          },
          "metadata": {}
        },
        {
          "output_type": "display_data",
          "data": {
            "text/plain": [
              "This is because:\n"
            ],
            "text/html": [
              "<pre style=\"white-space:pre;overflow-x:auto;line-height:normal;font-family:Menlo,'DejaVu Sans Mono',consolas,'Courier New',monospace\">This is because:\n",
              "</pre>\n"
            ]
          },
          "metadata": {}
        },
        {
          "output_type": "display_data",
          "data": {
            "text/plain": [
              "* \u001b[1;35mMETA\u001b[0m has a high mean return.\n"
            ],
            "text/html": [
              "<pre style=\"white-space:pre;overflow-x:auto;line-height:normal;font-family:Menlo,'DejaVu Sans Mono',consolas,'Courier New',monospace\">* <span style=\"color: #800080; text-decoration-color: #800080; font-weight: bold\">META</span> has a high mean return.\n",
              "</pre>\n"
            ]
          },
          "metadata": {}
        },
        {
          "output_type": "display_data",
          "data": {
            "text/plain": [
              "* The optimization algorithm has determined that \u001b[1;35mMETA\u001b[0m provides the best risk-return tradeoff, resulting in a high \n",
              "Sharpe Ratio.\n"
            ],
            "text/html": [
              "<pre style=\"white-space:pre;overflow-x:auto;line-height:normal;font-family:Menlo,'DejaVu Sans Mono',consolas,'Courier New',monospace\">* The optimization algorithm has determined that <span style=\"color: #800080; text-decoration-color: #800080; font-weight: bold\">META</span> provides the best risk-return tradeoff, resulting in a high \n",
              "Sharpe Ratio.\n",
              "</pre>\n"
            ]
          },
          "metadata": {}
        },
        {
          "output_type": "display_data",
          "data": {
            "text/plain": [
              "Based on the analysis, it's recommended to allocate a significant portion of your portfolio to this stock to \n",
              "maximize returns while managing risk.\n"
            ],
            "text/html": [
              "<pre style=\"white-space:pre;overflow-x:auto;line-height:normal;font-family:Menlo,'DejaVu Sans Mono',consolas,'Courier New',monospace\">Based on the analysis, it's recommended to allocate a significant portion of your portfolio to this stock to \n",
              "maximize returns while managing risk.\n",
              "</pre>\n"
            ]
          },
          "metadata": {}
        },
        {
          "output_type": "display_data",
          "data": {
            "text/plain": [
              "\n",
              "Portfolio Returns:\n"
            ],
            "text/html": [
              "<pre style=\"white-space:pre;overflow-x:auto;line-height:normal;font-family:Menlo,'DejaVu Sans Mono',consolas,'Courier New',monospace\">\n",
              "Portfolio Returns:\n",
              "</pre>\n"
            ]
          },
          "metadata": {}
        },
        {
          "output_type": "display_data",
          "data": {
            "text/plain": [
              "Date\n",
              "\u001b[1;36m2022\u001b[0m-\u001b[1;36m12\u001b[0m-\u001b[1;36m02\u001b[0m    \u001b[1;36m0.001296\u001b[0m\n",
              "\u001b[1;36m2022\u001b[0m-\u001b[1;36m12\u001b[0m-\u001b[1;36m05\u001b[0m   \u001b[1;36m-0.018900\u001b[0m\n",
              "\u001b[1;36m2022\u001b[0m-\u001b[1;36m12\u001b[0m-\u001b[1;36m06\u001b[0m   \u001b[1;36m-0.020304\u001b[0m\n",
              "\u001b[1;36m2022\u001b[0m-\u001b[1;36m12\u001b[0m-\u001b[1;36m07\u001b[0m   \u001b[1;36m-0.003060\u001b[0m\n",
              "\u001b[1;36m2022\u001b[0m-\u001b[1;36m12\u001b[0m-\u001b[1;36m08\u001b[0m    \u001b[1;36m0.012399\u001b[0m\n",
              "\u001b[1;36m2022\u001b[0m-\u001b[1;36m12\u001b[0m-\u001b[1;36m09\u001b[0m   \u001b[1;36m-0.008003\u001b[0m\n",
              "\u001b[1;36m2022\u001b[0m-\u001b[1;36m12\u001b[0m-\u001b[1;36m12\u001b[0m    \u001b[1;36m0.028889\u001b[0m\n",
              "\u001b[1;36m2022\u001b[0m-\u001b[1;36m12\u001b[0m-\u001b[1;36m13\u001b[0m    \u001b[1;36m0.017465\u001b[0m\n",
              "dtype: float64\n"
            ],
            "text/html": [
              "<pre style=\"white-space:pre;overflow-x:auto;line-height:normal;font-family:Menlo,'DejaVu Sans Mono',consolas,'Courier New',monospace\">Date\n",
              "<span style=\"color: #008080; text-decoration-color: #008080; font-weight: bold\">2022</span>-<span style=\"color: #008080; text-decoration-color: #008080; font-weight: bold\">12</span>-<span style=\"color: #008080; text-decoration-color: #008080; font-weight: bold\">02</span>    <span style=\"color: #008080; text-decoration-color: #008080; font-weight: bold\">0.001296</span>\n",
              "<span style=\"color: #008080; text-decoration-color: #008080; font-weight: bold\">2022</span>-<span style=\"color: #008080; text-decoration-color: #008080; font-weight: bold\">12</span>-<span style=\"color: #008080; text-decoration-color: #008080; font-weight: bold\">05</span>   <span style=\"color: #008080; text-decoration-color: #008080; font-weight: bold\">-0.018900</span>\n",
              "<span style=\"color: #008080; text-decoration-color: #008080; font-weight: bold\">2022</span>-<span style=\"color: #008080; text-decoration-color: #008080; font-weight: bold\">12</span>-<span style=\"color: #008080; text-decoration-color: #008080; font-weight: bold\">06</span>   <span style=\"color: #008080; text-decoration-color: #008080; font-weight: bold\">-0.020304</span>\n",
              "<span style=\"color: #008080; text-decoration-color: #008080; font-weight: bold\">2022</span>-<span style=\"color: #008080; text-decoration-color: #008080; font-weight: bold\">12</span>-<span style=\"color: #008080; text-decoration-color: #008080; font-weight: bold\">07</span>   <span style=\"color: #008080; text-decoration-color: #008080; font-weight: bold\">-0.003060</span>\n",
              "<span style=\"color: #008080; text-decoration-color: #008080; font-weight: bold\">2022</span>-<span style=\"color: #008080; text-decoration-color: #008080; font-weight: bold\">12</span>-<span style=\"color: #008080; text-decoration-color: #008080; font-weight: bold\">08</span>    <span style=\"color: #008080; text-decoration-color: #008080; font-weight: bold\">0.012399</span>\n",
              "<span style=\"color: #008080; text-decoration-color: #008080; font-weight: bold\">2022</span>-<span style=\"color: #008080; text-decoration-color: #008080; font-weight: bold\">12</span>-<span style=\"color: #008080; text-decoration-color: #008080; font-weight: bold\">09</span>   <span style=\"color: #008080; text-decoration-color: #008080; font-weight: bold\">-0.008003</span>\n",
              "<span style=\"color: #008080; text-decoration-color: #008080; font-weight: bold\">2022</span>-<span style=\"color: #008080; text-decoration-color: #008080; font-weight: bold\">12</span>-<span style=\"color: #008080; text-decoration-color: #008080; font-weight: bold\">12</span>    <span style=\"color: #008080; text-decoration-color: #008080; font-weight: bold\">0.028889</span>\n",
              "<span style=\"color: #008080; text-decoration-color: #008080; font-weight: bold\">2022</span>-<span style=\"color: #008080; text-decoration-color: #008080; font-weight: bold\">12</span>-<span style=\"color: #008080; text-decoration-color: #008080; font-weight: bold\">13</span>    <span style=\"color: #008080; text-decoration-color: #008080; font-weight: bold\">0.017465</span>\n",
              "dtype: float64\n",
              "</pre>\n"
            ]
          },
          "metadata": {}
        },
        {
          "output_type": "display_data",
          "data": {
            "text/plain": [
              "\n",
              "Cumulative Portfolio Returns:\n"
            ],
            "text/html": [
              "<pre style=\"white-space:pre;overflow-x:auto;line-height:normal;font-family:Menlo,'DejaVu Sans Mono',consolas,'Courier New',monospace\">\n",
              "Cumulative Portfolio Returns:\n",
              "</pre>\n"
            ]
          },
          "metadata": {}
        },
        {
          "output_type": "display_data",
          "data": {
            "text/plain": [
              "Date\n",
              "\u001b[1;36m2022\u001b[0m-\u001b[1;36m12\u001b[0m-\u001b[1;36m02\u001b[0m    \u001b[1;36m1.001296\u001b[0m\n",
              "\u001b[1;36m2022\u001b[0m-\u001b[1;36m12\u001b[0m-\u001b[1;36m05\u001b[0m    \u001b[1;36m0.982371\u001b[0m\n",
              "\u001b[1;36m2022\u001b[0m-\u001b[1;36m12\u001b[0m-\u001b[1;36m06\u001b[0m    \u001b[1;36m0.962425\u001b[0m\n",
              "\u001b[1;36m2022\u001b[0m-\u001b[1;36m12\u001b[0m-\u001b[1;36m07\u001b[0m    \u001b[1;36m0.959480\u001b[0m\n",
              "\u001b[1;36m2022\u001b[0m-\u001b[1;36m12\u001b[0m-\u001b[1;36m08\u001b[0m    \u001b[1;36m0.971377\u001b[0m\n",
              "\u001b[1;36m2022\u001b[0m-\u001b[1;36m12\u001b[0m-\u001b[1;36m09\u001b[0m    \u001b[1;36m0.963603\u001b[0m\n",
              "\u001b[1;36m2022\u001b[0m-\u001b[1;36m12\u001b[0m-\u001b[1;36m12\u001b[0m    \u001b[1;36m0.991440\u001b[0m\n",
              "\u001b[1;36m2022\u001b[0m-\u001b[1;36m12\u001b[0m-\u001b[1;36m13\u001b[0m    \u001b[1;36m1.008756\u001b[0m\n",
              "dtype: float64\n"
            ],
            "text/html": [
              "<pre style=\"white-space:pre;overflow-x:auto;line-height:normal;font-family:Menlo,'DejaVu Sans Mono',consolas,'Courier New',monospace\">Date\n",
              "<span style=\"color: #008080; text-decoration-color: #008080; font-weight: bold\">2022</span>-<span style=\"color: #008080; text-decoration-color: #008080; font-weight: bold\">12</span>-<span style=\"color: #008080; text-decoration-color: #008080; font-weight: bold\">02</span>    <span style=\"color: #008080; text-decoration-color: #008080; font-weight: bold\">1.001296</span>\n",
              "<span style=\"color: #008080; text-decoration-color: #008080; font-weight: bold\">2022</span>-<span style=\"color: #008080; text-decoration-color: #008080; font-weight: bold\">12</span>-<span style=\"color: #008080; text-decoration-color: #008080; font-weight: bold\">05</span>    <span style=\"color: #008080; text-decoration-color: #008080; font-weight: bold\">0.982371</span>\n",
              "<span style=\"color: #008080; text-decoration-color: #008080; font-weight: bold\">2022</span>-<span style=\"color: #008080; text-decoration-color: #008080; font-weight: bold\">12</span>-<span style=\"color: #008080; text-decoration-color: #008080; font-weight: bold\">06</span>    <span style=\"color: #008080; text-decoration-color: #008080; font-weight: bold\">0.962425</span>\n",
              "<span style=\"color: #008080; text-decoration-color: #008080; font-weight: bold\">2022</span>-<span style=\"color: #008080; text-decoration-color: #008080; font-weight: bold\">12</span>-<span style=\"color: #008080; text-decoration-color: #008080; font-weight: bold\">07</span>    <span style=\"color: #008080; text-decoration-color: #008080; font-weight: bold\">0.959480</span>\n",
              "<span style=\"color: #008080; text-decoration-color: #008080; font-weight: bold\">2022</span>-<span style=\"color: #008080; text-decoration-color: #008080; font-weight: bold\">12</span>-<span style=\"color: #008080; text-decoration-color: #008080; font-weight: bold\">08</span>    <span style=\"color: #008080; text-decoration-color: #008080; font-weight: bold\">0.971377</span>\n",
              "<span style=\"color: #008080; text-decoration-color: #008080; font-weight: bold\">2022</span>-<span style=\"color: #008080; text-decoration-color: #008080; font-weight: bold\">12</span>-<span style=\"color: #008080; text-decoration-color: #008080; font-weight: bold\">09</span>    <span style=\"color: #008080; text-decoration-color: #008080; font-weight: bold\">0.963603</span>\n",
              "<span style=\"color: #008080; text-decoration-color: #008080; font-weight: bold\">2022</span>-<span style=\"color: #008080; text-decoration-color: #008080; font-weight: bold\">12</span>-<span style=\"color: #008080; text-decoration-color: #008080; font-weight: bold\">12</span>    <span style=\"color: #008080; text-decoration-color: #008080; font-weight: bold\">0.991440</span>\n",
              "<span style=\"color: #008080; text-decoration-color: #008080; font-weight: bold\">2022</span>-<span style=\"color: #008080; text-decoration-color: #008080; font-weight: bold\">12</span>-<span style=\"color: #008080; text-decoration-color: #008080; font-weight: bold\">13</span>    <span style=\"color: #008080; text-decoration-color: #008080; font-weight: bold\">1.008756</span>\n",
              "dtype: float64\n",
              "</pre>\n"
            ]
          },
          "metadata": {}
        },
        {
          "output_type": "display_data",
          "data": {
            "text/plain": [
              "<Figure size 1000x600 with 1 Axes>"
            ],
            "image/png": "[encoded data removed]"
          },
          "metadata": {}
        }
      ]
    }
  ]
}